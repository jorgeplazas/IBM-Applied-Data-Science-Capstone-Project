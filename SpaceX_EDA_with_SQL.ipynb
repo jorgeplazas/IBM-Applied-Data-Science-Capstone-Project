{
 "cells": [
  {
   "cell_type": "markdown",
   "id": "22caaa44-c27e-4d29-b5ee-49dca4cc7cf3",
   "metadata": {},
   "source": [
    "# **SpaceX  Falcon 9 first stage Landing Prediction**\n",
    "\n",
    "\n",
    "# Lab 4: EDA with SQL\n",
    "\n",
    "\n",
    "## Data Exploration and Manipulation with SQL \n",
    "\n",
    "\n",
    "Using this Python notebook we will:\n",
    "\n",
    "1.  Understand the Spacex DataSet\n",
    "2.  Load the dataset  into the corresponding table in a Db2 database\n",
    "3.  Execute SQL queries to answer assignment questions \n"
   ]
  },
  {
   "cell_type": "markdown",
   "id": "1ae8e773-a2d5-4721-b534-598518e7c7e7",
   "metadata": {},
   "source": [
    "## Overview of the DataSet\n",
    "\n",
    "SpaceX has gained worldwide attention for a series of historic milestones. \n",
    "\n",
    "It is the only private company ever to return a spacecraft from low-earth orbit, which it first accomplished in December 2010.\n",
    "SpaceX advertises Falcon 9 rocket launches on its website with a cost of 62 million dollars wheras other providers cost upward of 165 million dollars each, much of the savings is because Space X can reuse the first stage. \n",
    "\n",
    "\n",
    "Therefore if we can determine if the first stage will land, we can determine the cost of a launch. \n",
    "\n",
    "This information can be used if an alternate company wants to bid against SpaceX for a rocket launch.\n",
    "\n",
    "This dataset includes a record for each payload carried during a SpaceX mission into outer space.\n"
   ]
  },
  {
   "cell_type": "markdown",
   "id": "8a3770ec-da5d-4ee2-b913-12094cd3dfb0",
   "metadata": {},
   "source": [
    "### Download the datasets\n",
    "\n",
    "This assignment requires you to load the spacex dataset.\n",
    "\n",
    "In many cases the dataset to be analyzed is available as a .CSV (comma separated values) file, perhaps on the internet. Click on the link below to download and save the dataset (.CSV file):\n",
    "\n",
    " <a href=\"https://cf-courses-data.s3.us.cloud-object-storage.appdomain.cloud/IBM-DS0321EN-SkillsNetwork/labs/module_2/data/Spacex.csv\" target=\"_blank\">Spacex DataSet</a>\n",
    "\n"
   ]
  },
  {
   "cell_type": "markdown",
   "id": "99833862-9852-410a-9211-b655a30013b0",
   "metadata": {},
   "source": [
    "**Navigate to the Go to UI screen** \n",
    "\n",
    "* Refer to this insruction in this <a href=\"https://cf-courses-data.s3.us.cloud-object-storage.appdomain.cloud/IBMDeveloperSkillsNetwork-DB0201EN-SkillsNetwork/labs/Labs_Coursera_V5/labs/Lab%20-%20Sign%20up%20for%20IBM%20Cloud%20-%20Create%20Db2%20service%20instance%20-%20Get%20started%20with%20the%20Db2%20console/instructional-labs.md.html\">link</a> for viewing  the   Go to UI screen. \n",
    "\n",
    "\n",
    "* Later click on **Data link(below SQL)**  in the Go to UI screen  and click on **Load Data** tab.  \n",
    "\n",
    "\n",
    "\n",
    "* Later browse for the downloaded spacex file.\n",
    "\n",
    "\n",
    "* Once done select the schema andload the file.  \n"
   ]
  },
  {
   "cell_type": "markdown",
   "id": "f76e14f8-fa6a-445f-b2cc-7a4cf400a353",
   "metadata": {},
   "source": [
    "\n",
    "If you are facing a problem in uploading the dataset (which is a csv file), you can follow the steps below to upload the .sql file instead of the CSV file:\n",
    "\n",
    "* Download the file <a href=\"https://cf-courses-data.s3.us.cloud-object-storage.appdomain.cloud/IBM-DS0321EN-SkillsNetwork/datasets/Spacex%20.sql\">Spacex.sql</a>\n",
    "\n",
    "* Later click on **SQL** in the  **Go to UI Screen**.\n",
    "\n",
    "* Use the **From file** option to browse for the **SQL** file and upload it.\n",
    "\n",
    "* Once you upload the script,you can use the **Run All** option to run all the queries to insert the data.\n",
    "\n",
    " "
   ]
  },
  {
   "cell_type": "code",
   "execution_count": 1,
   "id": "80dbd24e-b3c4-456b-a0a0-e6b252d5172f",
   "metadata": {},
   "outputs": [
    {
     "name": "stdout",
     "output_type": "stream",
     "text": [
      "Collecting sqlalchemy==1.3.9\n",
      "  Using cached SQLAlchemy-1.3.9-cp39-cp39-linux_x86_64.whl\n",
      "Installing collected packages: sqlalchemy\n",
      "  Attempting uninstall: sqlalchemy\n",
      "    Found existing installation: SQLAlchemy 2.0.6\n",
      "    Uninstalling SQLAlchemy-2.0.6:\n",
      "      Successfully uninstalled SQLAlchemy-2.0.6\n",
      "\u001b[31mERROR: pip's dependency resolver does not currently take into account all the packages that are installed. This behaviour is the source of the following dependency conflicts.\n",
      "ipython-sql 0.5.0 requires sqlalchemy>=2.0, but you have sqlalchemy 1.3.9 which is incompatible.\u001b[0m\u001b[31m\n",
      "\u001b[0mSuccessfully installed sqlalchemy-1.3.9\n",
      "Requirement already satisfied: ibm_db_sa in /home/jorge/anaconda3/lib/python3.9/site-packages (0.3.9)\n",
      "Requirement already satisfied: sqlalchemy>=0.7.3 in /home/jorge/anaconda3/lib/python3.9/site-packages (from ibm_db_sa) (1.3.9)\n",
      "Requirement already satisfied: ibm-db>=2.0.0 in /home/jorge/anaconda3/lib/python3.9/site-packages (from ibm_db_sa) (3.1.4)\n",
      "Requirement already satisfied: ipython-sql in /home/jorge/anaconda3/lib/python3.9/site-packages (0.5.0)\n",
      "Requirement already satisfied: ipython in /home/jorge/anaconda3/lib/python3.9/site-packages (from ipython-sql) (7.31.1)\n",
      "Requirement already satisfied: sqlparse in /home/jorge/anaconda3/lib/python3.9/site-packages (from ipython-sql) (0.4.3)\n",
      "Collecting sqlalchemy>=2.0\n",
      "  Using cached SQLAlchemy-2.0.6-cp39-cp39-manylinux_2_17_x86_64.manylinux2014_x86_64.whl (2.8 MB)\n",
      "Requirement already satisfied: six in /home/jorge/anaconda3/lib/python3.9/site-packages (from ipython-sql) (1.16.0)\n",
      "Requirement already satisfied: prettytable in /home/jorge/anaconda3/lib/python3.9/site-packages (from ipython-sql) (3.6.0)\n",
      "Requirement already satisfied: ipython-genutils in /home/jorge/anaconda3/lib/python3.9/site-packages (from ipython-sql) (0.2.0)\n",
      "Requirement already satisfied: greenlet!=0.4.17 in /home/jorge/anaconda3/lib/python3.9/site-packages (from sqlalchemy>=2.0->ipython-sql) (1.1.1)\n",
      "Requirement already satisfied: typing-extensions>=4.2.0 in /home/jorge/anaconda3/lib/python3.9/site-packages (from sqlalchemy>=2.0->ipython-sql) (4.3.0)\n",
      "Requirement already satisfied: traitlets>=4.2 in /home/jorge/anaconda3/lib/python3.9/site-packages (from ipython->ipython-sql) (5.1.1)\n",
      "Requirement already satisfied: matplotlib-inline in /home/jorge/anaconda3/lib/python3.9/site-packages (from ipython->ipython-sql) (0.1.6)\n",
      "Requirement already satisfied: pygments in /home/jorge/anaconda3/lib/python3.9/site-packages (from ipython->ipython-sql) (2.11.2)\n",
      "Requirement already satisfied: backcall in /home/jorge/anaconda3/lib/python3.9/site-packages (from ipython->ipython-sql) (0.2.0)\n",
      "Requirement already satisfied: jedi>=0.16 in /home/jorge/anaconda3/lib/python3.9/site-packages (from ipython->ipython-sql) (0.18.1)\n",
      "Requirement already satisfied: setuptools>=18.5 in /home/jorge/anaconda3/lib/python3.9/site-packages (from ipython->ipython-sql) (63.4.1)\n",
      "Requirement already satisfied: pexpect>4.3 in /home/jorge/anaconda3/lib/python3.9/site-packages (from ipython->ipython-sql) (4.8.0)\n",
      "Requirement already satisfied: decorator in /home/jorge/anaconda3/lib/python3.9/site-packages (from ipython->ipython-sql) (5.1.1)\n",
      "Requirement already satisfied: pickleshare in /home/jorge/anaconda3/lib/python3.9/site-packages (from ipython->ipython-sql) (0.7.5)\n",
      "Requirement already satisfied: prompt-toolkit!=3.0.0,!=3.0.1,<3.1.0,>=2.0.0 in /home/jorge/anaconda3/lib/python3.9/site-packages (from ipython->ipython-sql) (3.0.20)\n",
      "Requirement already satisfied: wcwidth in /home/jorge/anaconda3/lib/python3.9/site-packages (from prettytable->ipython-sql) (0.2.5)\n",
      "Requirement already satisfied: parso<0.9.0,>=0.8.0 in /home/jorge/anaconda3/lib/python3.9/site-packages (from jedi>=0.16->ipython->ipython-sql) (0.8.3)\n",
      "Requirement already satisfied: ptyprocess>=0.5 in /home/jorge/anaconda3/lib/python3.9/site-packages (from pexpect>4.3->ipython->ipython-sql) (0.7.0)\n",
      "Installing collected packages: sqlalchemy\n",
      "  Attempting uninstall: sqlalchemy\n",
      "    Found existing installation: SQLAlchemy 1.3.9\n",
      "    Uninstalling SQLAlchemy-1.3.9:\n",
      "      Successfully uninstalled SQLAlchemy-1.3.9\n",
      "Successfully installed sqlalchemy-2.0.6\n"
     ]
    }
   ],
   "source": [
    "!pip install sqlalchemy==1.3.9\n",
    "!pip install ibm_db_sa\n",
    "!pip install ipython-sql"
   ]
  },
  {
   "cell_type": "markdown",
   "id": "4d078618-5f50-48d9-9b65-20da01d2228c",
   "metadata": {},
   "source": [
    "### Connect to the database\n",
    "\n",
    "Let us first load the SQL extension and establish a connection with the database\n"
   ]
  },
  {
   "cell_type": "code",
   "execution_count": 2,
   "id": "dbecf5cd-c2d8-4b82-b84a-244c41e72af4",
   "metadata": {},
   "outputs": [],
   "source": [
    "%load_ext sql"
   ]
  },
  {
   "cell_type": "code",
   "execution_count": null,
   "id": "3a777815-54d0-492b-addb-78cdc1ee0dd7",
   "metadata": {},
   "outputs": [],
   "source": [
    "Database\n",
    "\n",
    "`ibmcapstone-376222.SpaceXData.SpaceXTable1`"
   ]
  },
  {
   "cell_type": "markdown",
   "id": "1e99228b-31e0-45ab-af44-5d0a98e2edd5",
   "metadata": {},
   "source": [
    "## Tasks\n",
    "\n",
    "Now write and execute SQL queries to solve the assignment tasks.\n",
    "\n",
    "### Task 1\n",
    "\n",
    "\n",
    "\n",
    "\n",
    "##### Display the names of the unique launch sites  in the space mission\n"
   ]
  },
  {
   "cell_type": "code",
   "execution_count": null,
   "id": "36cb2cda-f45b-432a-9f96-333a7d577c75",
   "metadata": {},
   "outputs": [],
   "source": [
    "%%sql\n",
    "SELECT  DISTINCT(Launch_Site) AS Names \n",
    "FROM `ibmcapstone-376222.SpaceXData.SpaceXTable1`;"
   ]
  },
  {
   "cell_type": "markdown",
   "id": "0bade2d8-a5cf-4325-8419-8bcd03f4efd1",
   "metadata": {},
   "source": [
    "\n",
    "### Task 2\n",
    "\n",
    "\n",
    "#####  Display 5 records where launch sites begin with the string 'CCA' \n"
   ]
  },
  {
   "cell_type": "code",
   "execution_count": null,
   "id": "5f4740b9-7e45-495a-8aec-108d52124302",
   "metadata": {},
   "outputs": [],
   "source": [
    "%%sql\n",
    "SELECT  *  \n",
    "FROM `ibmcapstone-376222.SpaceXData.SpaceXTable1`\n",
    "WHERE Launch_Site LIKE 'CCA%'\n",
    "LIMIT 5;"
   ]
  },
  {
   "cell_type": "markdown",
   "id": "5f3f3a95-f842-453f-9aec-770976af841d",
   "metadata": {},
   "source": [
    "### Task 3\n",
    "\n",
    "\n",
    "\n",
    "\n",
    "##### Display the total payload mass carried by boosters launched by NASA (CRS)\n"
   ]
  },
  {
   "cell_type": "code",
   "execution_count": null,
   "id": "701d7054-5983-4dad-93a1-8738139c7980",
   "metadata": {},
   "outputs": [],
   "source": [
    "%%sql\n",
    "SELECT SUM(PAYLOAD_MASS__KG_)\n",
    "FROM `ibmcapstone-376222.SpaceXData.SpaceXTable1`\n",
    "WHERE Payload LIKE '%CRS%'"
   ]
  },
  {
   "cell_type": "markdown",
   "id": "0e14f297-4165-4d28-b82b-c4e502bc7ef3",
   "metadata": {},
   "source": [
    "### Task 4\n",
    "\n",
    "\n",
    "\n",
    "\n",
    "##### Display average payload mass carried by booster version F9 v1.1\n"
   ]
  },
  {
   "cell_type": "code",
   "execution_count": null,
   "id": "5c9846c3-e5dc-4e72-b507-aa2592a054fa",
   "metadata": {},
   "outputs": [],
   "source": [
    "%%sql\n",
    "SELECT AVG(PAYLOAD_MASS__KG_)\n",
    "FROM `ibmcapstone-376222.SpaceXData.SpaceXTable1`\n",
    "WHERE Booster_Version = 'F9 v1.1';"
   ]
  },
  {
   "cell_type": "markdown",
   "id": "a45072a9-7730-4b69-97ed-d0268811c564",
   "metadata": {},
   "source": [
    "### Task 5\n",
    "\n",
    "##### List the date when the first successful landing outcome in ground pad was acheived.\n",
    "\n",
    "\n",
    "_Hint:Use min function_ \n"
   ]
  },
  {
   "cell_type": "code",
   "execution_count": null,
   "id": "17e67b40-6d7d-4558-b5e9-662fe281a6b6",
   "metadata": {},
   "outputs": [],
   "source": [
    "%%sql\n",
    "SELECT MIN(Date)\n",
    "FROM `ibmcapstone-376222.SpaceXData.SpaceXTable1`\n",
    "WHERE Landing__Outcome = 'Success (ground pad)';"
   ]
  },
  {
   "cell_type": "markdown",
   "id": "f4a27811-c954-4f53-a1e3-8590c09b761e",
   "metadata": {},
   "source": [
    "### Task 6\n",
    "\n",
    "##### List the names of the boosters which have success in drone ship and have payload mass greater than 4000 but less than 6000\n"
   ]
  },
  {
   "cell_type": "code",
   "execution_count": null,
   "id": "ffd9b828-f248-4857-98cb-0ba01dd3d4c3",
   "metadata": {},
   "outputs": [],
   "source": [
    "%%sql\n",
    "SELECT DISTINCT(Booster_Version)\n",
    "FROM `ibmcapstone-376222.SpaceXData.SpaceXTable1`\n",
    "WHERE Landing__Outcome = 'Success (drone ship)' AND  PAYLOAD_MASS__KG_ BETWEEN 4000 AND 6000;"
   ]
  },
  {
   "cell_type": "markdown",
   "id": "64a3b1b5-efb7-4156-9918-28655779e419",
   "metadata": {},
   "source": [
    "### Task 7\n",
    "\n",
    "\n",
    "\n",
    "\n",
    "##### List the total number of successful and failure mission outcomes\n"
   ]
  },
  {
   "cell_type": "code",
   "execution_count": null,
   "id": "6f541ead-8838-4db7-8f01-01577b69a76c",
   "metadata": {},
   "outputs": [],
   "source": [
    "%%sql\n",
    "SELECT \n",
    "(SELECT COUNT(*) FROM `ibmcapstone-376222.SpaceXData.SpaceXTable1` WHERE Mission_Outcome LIKE '%Success%') AS success_count, \n",
    "(SELECT COUNT(*) FROM `ibmcapstone-376222.SpaceXData.SpaceXTable1` WHERE Mission_Outcome LIKE '%Failure%') AS failure_count\n",
    "FROM `ibmcapstone-376222.SpaceXData.SpaceXTable1`;"
   ]
  },
  {
   "cell_type": "markdown",
   "id": "3ae7619c-a8c7-409d-b85d-26ce81236e36",
   "metadata": {},
   "source": [
    "### Task 8\n",
    "\n",
    "\n",
    "\n",
    "##### List the   names of the booster_versions which have carried the maximum payload mass. Use a subquery\n"
   ]
  },
  {
   "cell_type": "code",
   "execution_count": null,
   "id": "6d3ca7c3-923c-4609-804e-5a1450e19247",
   "metadata": {},
   "outputs": [],
   "source": [
    "%%sql\n",
    "SELECT DISTINCT(Booster_Version), PAYLOAD_MASS__KG_\n",
    "FROM `ibmcapstone-376222.SpaceXData.SpaceXTable1`\n",
    "WHERE PAYLOAD_MASS__KG_ = (SELECT MAX(PAYLOAD_MASS__KG_) FROM  `ibmcapstone-376222.SpaceXData.SpaceXTable1`);"
   ]
  },
  {
   "cell_type": "markdown",
   "id": "ed179e86-f977-4328-aad5-7be049fe8000",
   "metadata": {},
   "source": [
    "### Task 9\n",
    "\n",
    "\n",
    "##### List the failed landing_outcomes in drone ship, their booster versions, and launch site names for in year 2015\n"
   ]
  },
  {
   "cell_type": "code",
   "execution_count": null,
   "id": "cedcbed9-4e5a-49fb-a18b-1c0d65696894",
   "metadata": {},
   "outputs": [],
   "source": [
    "%%sql\n",
    "SELECT SUBSTRING( CAST(Date AS STRING), 6, 2) AS month, Landing__Outcome, Booster_Version, Launch_Site\n",
    "FROM `ibmcapstone-376222.SpaceXData.SpaceXTable1`\n",
    "WHERE SUBSTRING(CAST(Date AS STRING), 0, 4)='2015';"
   ]
  },
  {
   "cell_type": "markdown",
   "id": "e8d71a31-f2cc-49ba-99cd-1856c388b093",
   "metadata": {},
   "source": [
    "### Reference Links\n",
    "\n",
    "* <a href =\"https://cf-courses-data.s3.us.cloud-object-storage.appdomain.cloud/IBMDeveloperSkillsNetwork-DB0201EN-SkillsNetwork/labs/Labs_Coursera_V5/labs/Lab%20-%20String%20Patterns%20-%20Sorting%20-%20Grouping/instructional-labs.md.html?origin=www.coursera.org\">Hands-on Lab : String Patterns, Sorting and Grouping</a>  \n",
    "\n",
    "*  <a  href=\"https://cf-courses-data.s3.us.cloud-object-storage.appdomain.cloud/IBMDeveloperSkillsNetwork-DB0201EN-SkillsNetwork/labs/Labs_Coursera_V5/labs/Lab%20-%20Built-in%20functions%20/Hands-on_Lab__Built-in_Functions.md.html?origin=www.coursera.org\">Hands-on Lab: Built-in functions</a>\n",
    "\n",
    "*  <a  href=\"https://cf-courses-data.s3.us.cloud-object-storage.appdomain.cloud/IBMDeveloperSkillsNetwork-DB0201EN-SkillsNetwork/labs/Labs_Coursera_V5/labs/Lab%20-%20Sub-queries%20and%20Nested%20SELECTs%20/instructional-labs.md.html?origin=www.coursera.org\">Hands-on Lab : Sub-queries and Nested SELECT Statements</a>\n",
    "\n",
    "*   <a href=\"https://cf-courses-data.s3.us.cloud-object-storage.appdomain.cloud/IBMDeveloperSkillsNetwork-DB0201EN-SkillsNetwork/labs/Module%205/DB0201EN-Week3-1-3-SQLmagic.ipynb\">Hands-on Tutorial: Accessing Databases with SQL magic</a>\n",
    "\n",
    "*  <a href= \"https://cf-courses-data.s3.us.cloud-object-storage.appdomain.cloud/IBMDeveloperSkillsNetwork-DB0201EN-SkillsNetwork/labs/Module%205/DB0201EN-Week3-1-4-Analyzing.ipynb\">Hands-on Lab: Analyzing a real World Data Set</a>\n",
    "\n",
    "\n"
   ]
  },
  {
   "cell_type": "markdown",
   "id": "fa1521fd-7c86-4eff-8f64-b51e5131fbf8",
   "metadata": {},
   "source": [
    "## Author(s)\n",
    "\n",
    "<h4> Lakshmi Holla </h4>\n"
   ]
  },
  {
   "cell_type": "markdown",
   "id": "572ec773-b1e0-413e-9397-c67c5894fc74",
   "metadata": {},
   "source": [
    "## Other Contributors\n",
    "\n",
    "<h4> Rav Ahuja </h4>\n"
   ]
  },
  {
   "cell_type": "markdown",
   "id": "7f4005d1-e800-4f7b-b002-9a578c750c15",
   "metadata": {},
   "source": [
    "## Change log\n",
    "| Date | Version | Changed by | Change Description |\n",
    "|------|--------|--------|---------|\n",
    "| 2021-10-12 | 0.4 |Lakshmi Holla | Changed markdown|\n",
    "| 2021-08-24 | 0.3 |Lakshmi Holla | Added library update|\n",
    "| 2021-07-09 | 0.2 |Lakshmi Holla | Changes made in magic sql|\n",
    "| 2021-05-20 | 0.1 |Lakshmi Holla | Created Initial Version |\n"
   ]
  },
  {
   "cell_type": "markdown",
   "id": "6a2bdd2d-d066-4ad5-9313-5e53830cd9f8",
   "metadata": {},
   "source": [
    "## <h3 align=\"center\"> © IBM Corporation 2021. All rights reserved. <h3/>\n"
   ]
  },
  {
   "cell_type": "markdown",
   "metadata": {},
   "source": [
    "## This worked out version\n",
    "\n",
    "\n",
    "Exercises solved by **Jorge Plazas**."
   ]
  },
  {
   "cell_type": "code",
   "execution_count": null,
   "metadata": {},
   "outputs": [],
   "source": []
  }
 ],
 "metadata": {
  "kernelspec": {
   "display_name": "Python 3 (ipykernel)",
   "language": "python",
   "name": "python3"
  },
  "language_info": {
   "codemirror_mode": {
    "name": "ipython",
    "version": 3
   },
   "file_extension": ".py",
   "mimetype": "text/x-python",
   "name": "python",
   "nbconvert_exporter": "python",
   "pygments_lexer": "ipython3",
   "version": "3.9.13"
  }
 },
 "nbformat": 4,
 "nbformat_minor": 4
}
